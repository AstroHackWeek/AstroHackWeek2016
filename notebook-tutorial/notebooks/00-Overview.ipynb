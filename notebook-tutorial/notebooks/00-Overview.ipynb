{
 "cells": [
  {
   "cell_type": "markdown",
   "metadata": {},
   "source": [
    "# Jupyter Notebook Tips and Tricks\n",
    "\n",
    "By: [Jonathan Whitmore](http://jonathanwhitmore.com/) -- Silicon Valley Data Science\n",
    "\n",
    " - Email: [jbwhit@gmail.com](mailto:jbwhit@gmail.com)\n",
    " - Twitter: [@jbwhitmore](https://twitter.com/jbwhitmore)\n",
    " - **LinkedIn**: [Add me w/ 1 line message about AstroHackWeek](https://www.linkedin.com/in/jonathanbwhitmore)\n",
    "\n",
    "All notebooks available: https://github.com/jbwhit/jupyter-tips-and-tricks"
   ]
  },
  {
   "cell_type": "markdown",
   "metadata": {},
   "source": [
    "## Table of Contents\n",
    "\n",
    "   1. Overview\n",
    "   1. Tips and tricks\n",
    "   1. Visualization and code organization\n",
    "   1. Some basics\n",
    "    1. More basics\n",
    "    1. interactive splines\n",
    "    1. Pandas Plotting\n",
    "    1. SQL Example\n",
    "    1. R stuff\n",
    "    1. Extras"
   ]
  },
  {
   "cell_type": "markdown",
   "metadata": {},
   "source": [
    "### Themes\n",
    "\n",
    " - Workflow matters\n",
    "  - Take time to learn your tools -- the investment will pay dividends.\n",
    "  - Make repeated actions as automatic as possible\n",
    " - Adhere to best practices as best you can (unless you have a really good reason not to). \n",
    "  1. You will have to collaborate on teams -- code quality matters. \n",
    "  1. PEP8 things\n",
    " - Learn your tools\n",
    "   - there are `csv` parsers, don't roll your own\n",
    " - Contribute back -- stackoverflow\n",
    "\n",
    "\n",
    "## Final comment\n",
    "\n",
    " - Don't try to take notes, just let this wash over you.\n",
    "  - Not knowing what's possible is a cognitive blindspot.\n",
    " - These Notebooks will be available to you."
   ]
  },
  {
   "cell_type": "markdown",
   "metadata": {
    "collapsed": true
   },
   "source": [
    " \n",
    "### Resources\n",
    "\n",
    "  - Python (anything norvig)\n",
    "   - Especially if you think you're a master: https://www.udacity.com/course/design-of-computer-programs--cs212\n",
    "  - Pandas \n",
    "    - http://gregreda.com/2013/10/26/intro-to-pandas-data-structures/\n",
    "    - http://tomaugspurger.github.io/modern-1.html\n",
    "    \n"
   ]
  },
  {
   "cell_type": "code",
   "execution_count": null,
   "metadata": {
    "collapsed": true
   },
   "outputs": [],
   "source": []
  }
 ],
 "metadata": {
  "kernelspec": {
   "display_name": "Python 3",
   "language": "python",
   "name": "python3"
  },
  "language_info": {
   "codemirror_mode": {
    "name": "ipython",
    "version": 3
   },
   "file_extension": ".py",
   "mimetype": "text/x-python",
   "name": "python",
   "nbconvert_exporter": "python",
   "pygments_lexer": "ipython3",
   "version": "3.5.2"
  }
 },
 "nbformat": 4,
 "nbformat_minor": 0
}

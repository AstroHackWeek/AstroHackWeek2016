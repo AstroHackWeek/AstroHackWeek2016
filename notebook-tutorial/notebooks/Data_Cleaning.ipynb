{
 "cells": [
  {
   "cell_type": "markdown",
   "metadata": {},
   "source": [
    "# Clean data\n",
    "\n",
    "Coal mining data from [eia.gov](http://www.eia.gov/coal/data.cfm#prices)\n",
    "\n",
    "Combining and cleaning the raw csv files into a cleaned data set and coherent database. \n",
    "\n",
    "Generally a good idea to have a separate data folder with the raw data.\n",
    "\n",
    "When you clean the raw data, leave the raw in place, and create cleaned version with the steps included (ideal situation for Notebook)."
   ]
  },
  {
   "cell_type": "code",
   "execution_count": 3,
   "metadata": {
    "collapsed": true
   },
   "outputs": [],
   "source": [
    "import numpy as np\n",
    "import pandas as pd"
   ]
  },
  {
   "cell_type": "code",
   "execution_count": 4,
   "metadata": {
    "collapsed": false
   },
   "outputs": [
    {
     "name": "stdout",
     "output_type": "stream",
     "text": [
      "/Users/jonathan/github/jupyter-tips-and-tricks/deliver\r\n"
     ]
    }
   ],
   "source": [
    "!pwd"
   ]
  },
  {
   "cell_type": "code",
   "execution_count": 5,
   "metadata": {
    "collapsed": true
   },
   "outputs": [],
   "source": [
    "# The cleaned data file is saved here:\n",
    "output_file = \"../data/coal_prod_cleaned.csv\""
   ]
  },
  {
   "cell_type": "code",
   "execution_count": 6,
   "metadata": {
    "collapsed": true
   },
   "outputs": [],
   "source": [
    "df7 = pd.read_csv(\"../data/coal_prod_2008.csv\", index_col=\"MSHA_ID\")\n",
    "df8 = pd.read_csv(\"../data/coal_prod_2009.csv\", index_col=\"MSHA_ID\")\n",
    "df9 = pd.read_csv(\"../data/coal_prod_2010.csv\", index_col=\"MSHA_ID\")\n",
    "df10 = pd.read_csv(\"../data/coal_prod_2011.csv\", index_col=\"MSHA_ID\")\n",
    "df11 = pd.read_csv(\"../data/coal_prod_2012.csv\", index_col=\"MSHA_ID\")"
   ]
  },
  {
   "cell_type": "code",
   "execution_count": 7,
   "metadata": {
    "collapsed": false
   },
   "outputs": [],
   "source": [
    "dframe = pd.concat((df7, df8, df9, df10, df11))"
   ]
  },
  {
   "cell_type": "code",
   "execution_count": 8,
   "metadata": {
    "collapsed": false
   },
   "outputs": [
    {
     "data": {
      "text/plain": [
       "array(['Indepedent Producer Operator', 'Operating Subsidiary', 'Contractor'], dtype=object)"
      ]
     },
     "execution_count": 8,
     "metadata": {},
     "output_type": "execute_result"
    }
   ],
   "source": [
    "# Noticed a probable typo in the data set: \n",
    "dframe['Company_Type'].unique()"
   ]
  },
  {
   "cell_type": "code",
   "execution_count": 9,
   "metadata": {
    "collapsed": false
   },
   "outputs": [
    {
     "data": {
      "text/html": [
       "<div>\n",
       "<table border=\"1\" class=\"dataframe\">\n",
       "  <thead>\n",
       "    <tr style=\"text-align: right;\">\n",
       "      <th></th>\n",
       "      <th>Average_Employees</th>\n",
       "      <th>Company_Type</th>\n",
       "      <th>Labor_Hours</th>\n",
       "      <th>Mine_Basin</th>\n",
       "      <th>Mine_County</th>\n",
       "      <th>Mine_Name</th>\n",
       "      <th>Mine_State</th>\n",
       "      <th>Mine_Status</th>\n",
       "      <th>Mine_Type</th>\n",
       "      <th>Operating_Company</th>\n",
       "      <th>Operating_Company_Address</th>\n",
       "      <th>Operation_Type</th>\n",
       "      <th>Production_short_tons</th>\n",
       "      <th>Union_Code</th>\n",
       "      <th>Year</th>\n",
       "    </tr>\n",
       "    <tr>\n",
       "      <th>MSHA_ID</th>\n",
       "      <th></th>\n",
       "      <th></th>\n",
       "      <th></th>\n",
       "      <th></th>\n",
       "      <th></th>\n",
       "      <th></th>\n",
       "      <th></th>\n",
       "      <th></th>\n",
       "      <th></th>\n",
       "      <th></th>\n",
       "      <th></th>\n",
       "      <th></th>\n",
       "      <th></th>\n",
       "      <th></th>\n",
       "      <th></th>\n",
       "    </tr>\n",
       "  </thead>\n",
       "  <tbody>\n",
       "    <tr>\n",
       "      <th>103295</th>\n",
       "      <td>18.0</td>\n",
       "      <td>Independent Producer Operator</td>\n",
       "      <td>39175.0</td>\n",
       "      <td>Appalachia Southern</td>\n",
       "      <td>Bibb</td>\n",
       "      <td>Seymour Mine</td>\n",
       "      <td>Alabama</td>\n",
       "      <td>Active</td>\n",
       "      <td>Surface</td>\n",
       "      <td>Hope Coal Company Inc</td>\n",
       "      <td>P.O. Box 249, Maylene, AL 35114</td>\n",
       "      <td>Mine only</td>\n",
       "      <td>105082.0</td>\n",
       "      <td>NaN</td>\n",
       "      <td>2008</td>\n",
       "    </tr>\n",
       "    <tr>\n",
       "      <th>103117</th>\n",
       "      <td>19.0</td>\n",
       "      <td>Operating Subsidiary</td>\n",
       "      <td>29926.0</td>\n",
       "      <td>Appalachia Southern</td>\n",
       "      <td>Cullman</td>\n",
       "      <td>Mine #2, #3, #4</td>\n",
       "      <td>Alabama</td>\n",
       "      <td>Active, men working, not producing</td>\n",
       "      <td>Surface</td>\n",
       "      <td>Twin Pines Coal Company Inc</td>\n",
       "      <td>1874 County Road 15, Bremen, AL 35033</td>\n",
       "      <td>Mine only</td>\n",
       "      <td>10419.0</td>\n",
       "      <td>NaN</td>\n",
       "      <td>2008</td>\n",
       "    </tr>\n",
       "    <tr>\n",
       "      <th>103361</th>\n",
       "      <td>20.0</td>\n",
       "      <td>Operating Subsidiary</td>\n",
       "      <td>42542.0</td>\n",
       "      <td>Appalachia Southern</td>\n",
       "      <td>Cullman</td>\n",
       "      <td>Cold Springs West Mine</td>\n",
       "      <td>Alabama</td>\n",
       "      <td>Active</td>\n",
       "      <td>Surface</td>\n",
       "      <td>Twin Pines Coal Company</td>\n",
       "      <td>74 Industrial Parkway, Jasper, AL 35502</td>\n",
       "      <td>Mine only</td>\n",
       "      <td>143208.0</td>\n",
       "      <td>NaN</td>\n",
       "      <td>2008</td>\n",
       "    </tr>\n",
       "    <tr>\n",
       "      <th>100759</th>\n",
       "      <td>395.0</td>\n",
       "      <td>Operating Subsidiary</td>\n",
       "      <td>890710.0</td>\n",
       "      <td>Appalachia Southern</td>\n",
       "      <td>Fayette</td>\n",
       "      <td>North River # 1 Underground Mi</td>\n",
       "      <td>Alabama</td>\n",
       "      <td>Active</td>\n",
       "      <td>Underground</td>\n",
       "      <td>Chevron Mining Inc</td>\n",
       "      <td>3114 County Road 63 S, Berry, AL 35546</td>\n",
       "      <td>Mine and Preparation Plant</td>\n",
       "      <td>2923261.0</td>\n",
       "      <td>United Mine Workers of America</td>\n",
       "      <td>2008</td>\n",
       "    </tr>\n",
       "    <tr>\n",
       "      <th>103246</th>\n",
       "      <td>22.0</td>\n",
       "      <td>Independent Producer Operator</td>\n",
       "      <td>55403.0</td>\n",
       "      <td>Appalachia Southern</td>\n",
       "      <td>Franklin</td>\n",
       "      <td>Bear Creek</td>\n",
       "      <td>Alabama</td>\n",
       "      <td>Active</td>\n",
       "      <td>Surface</td>\n",
       "      <td>Birmingham Coal &amp; Coke Co., In</td>\n",
       "      <td>912 Edenton Street, Birmingham, AL 35242</td>\n",
       "      <td>Mine only</td>\n",
       "      <td>183137.0</td>\n",
       "      <td>NaN</td>\n",
       "      <td>2008</td>\n",
       "    </tr>\n",
       "  </tbody>\n",
       "</table>\n",
       "</div>"
      ],
      "text/plain": [
       "         Average_Employees                   Company_Type  Labor_Hours  \\\n",
       "MSHA_ID                                                                  \n",
       "103295                18.0  Independent Producer Operator      39175.0   \n",
       "103117                19.0           Operating Subsidiary      29926.0   \n",
       "103361                20.0           Operating Subsidiary      42542.0   \n",
       "100759               395.0           Operating Subsidiary     890710.0   \n",
       "103246                22.0  Independent Producer Operator      55403.0   \n",
       "\n",
       "                  Mine_Basin Mine_County                       Mine_Name  \\\n",
       "MSHA_ID                                                                    \n",
       "103295   Appalachia Southern        Bibb                    Seymour Mine   \n",
       "103117   Appalachia Southern     Cullman                 Mine #2, #3, #4   \n",
       "103361   Appalachia Southern     Cullman          Cold Springs West Mine   \n",
       "100759   Appalachia Southern     Fayette  North River # 1 Underground Mi   \n",
       "103246   Appalachia Southern    Franklin                      Bear Creek   \n",
       "\n",
       "        Mine_State                         Mine_Status    Mine_Type  \\\n",
       "MSHA_ID                                                               \n",
       "103295     Alabama                              Active      Surface   \n",
       "103117     Alabama  Active, men working, not producing      Surface   \n",
       "103361     Alabama                              Active      Surface   \n",
       "100759     Alabama                              Active  Underground   \n",
       "103246     Alabama                              Active      Surface   \n",
       "\n",
       "                      Operating_Company  \\\n",
       "MSHA_ID                                   \n",
       "103295            Hope Coal Company Inc   \n",
       "103117      Twin Pines Coal Company Inc   \n",
       "103361          Twin Pines Coal Company   \n",
       "100759               Chevron Mining Inc   \n",
       "103246   Birmingham Coal & Coke Co., In   \n",
       "\n",
       "                        Operating_Company_Address              Operation_Type  \\\n",
       "MSHA_ID                                                                         \n",
       "103295            P.O. Box 249, Maylene, AL 35114                   Mine only   \n",
       "103117      1874 County Road 15, Bremen, AL 35033                   Mine only   \n",
       "103361    74 Industrial Parkway, Jasper, AL 35502                   Mine only   \n",
       "100759     3114 County Road 63 S, Berry, AL 35546  Mine and Preparation Plant   \n",
       "103246   912 Edenton Street, Birmingham, AL 35242                   Mine only   \n",
       "\n",
       "         Production_short_tons                      Union_Code  Year  \n",
       "MSHA_ID                                                               \n",
       "103295                105082.0                             NaN  2008  \n",
       "103117                 10419.0                             NaN  2008  \n",
       "103361                143208.0                             NaN  2008  \n",
       "100759               2923261.0  United Mine Workers of America  2008  \n",
       "103246                183137.0                             NaN  2008  "
      ]
     },
     "execution_count": 9,
     "metadata": {},
     "output_type": "execute_result"
    }
   ],
   "source": [
    "# Correcting the Company_Type\n",
    "dframe.loc[dframe['Company_Type'] == 'Indepedent Producer Operator', 'Company_Type'] = 'Independent Producer Operator'\n",
    "dframe.head()"
   ]
  },
  {
   "cell_type": "code",
   "execution_count": 10,
   "metadata": {
    "collapsed": false
   },
   "outputs": [
    {
     "data": {
      "text/html": [
       "<div>\n",
       "<table border=\"1\" class=\"dataframe\">\n",
       "  <thead>\n",
       "    <tr style=\"text-align: right;\">\n",
       "      <th></th>\n",
       "      <th>Average_Employees</th>\n",
       "      <th>Company_Type</th>\n",
       "      <th>Labor_Hours</th>\n",
       "      <th>Mine_Basin</th>\n",
       "      <th>Mine_County</th>\n",
       "      <th>Mine_Name</th>\n",
       "      <th>Mine_State</th>\n",
       "      <th>Mine_Status</th>\n",
       "      <th>Mine_Type</th>\n",
       "      <th>Operating_Company</th>\n",
       "      <th>Operating_Company_Address</th>\n",
       "      <th>Operation_Type</th>\n",
       "      <th>Production_short_tons</th>\n",
       "      <th>Union_Code</th>\n",
       "      <th>Year</th>\n",
       "    </tr>\n",
       "    <tr>\n",
       "      <th>MSHA_ID</th>\n",
       "      <th></th>\n",
       "      <th></th>\n",
       "      <th></th>\n",
       "      <th></th>\n",
       "      <th></th>\n",
       "      <th></th>\n",
       "      <th></th>\n",
       "      <th></th>\n",
       "      <th></th>\n",
       "      <th></th>\n",
       "      <th></th>\n",
       "      <th></th>\n",
       "      <th></th>\n",
       "      <th></th>\n",
       "      <th></th>\n",
       "    </tr>\n",
       "  </thead>\n",
       "  <tbody>\n",
       "    <tr>\n",
       "      <th>103295</th>\n",
       "      <td>18.0</td>\n",
       "      <td>Independent Producer Operator</td>\n",
       "      <td>39175.0</td>\n",
       "      <td>Appalachia Southern</td>\n",
       "      <td>Bibb</td>\n",
       "      <td>Seymour Mine</td>\n",
       "      <td>Alabama</td>\n",
       "      <td>Active</td>\n",
       "      <td>Surface</td>\n",
       "      <td>Hope Coal Company Inc</td>\n",
       "      <td>P.O. Box 249, Maylene, AL 35114</td>\n",
       "      <td>Mine only</td>\n",
       "      <td>105082.0</td>\n",
       "      <td>NaN</td>\n",
       "      <td>2008</td>\n",
       "    </tr>\n",
       "    <tr>\n",
       "      <th>103117</th>\n",
       "      <td>19.0</td>\n",
       "      <td>Operating Subsidiary</td>\n",
       "      <td>29926.0</td>\n",
       "      <td>Appalachia Southern</td>\n",
       "      <td>Cullman</td>\n",
       "      <td>Mine #2, #3, #4</td>\n",
       "      <td>Alabama</td>\n",
       "      <td>Active, men working, not producing</td>\n",
       "      <td>Surface</td>\n",
       "      <td>Twin Pines Coal Company Inc</td>\n",
       "      <td>1874 County Road 15, Bremen, AL 35033</td>\n",
       "      <td>Mine only</td>\n",
       "      <td>10419.0</td>\n",
       "      <td>NaN</td>\n",
       "      <td>2008</td>\n",
       "    </tr>\n",
       "    <tr>\n",
       "      <th>103361</th>\n",
       "      <td>20.0</td>\n",
       "      <td>Operating Subsidiary</td>\n",
       "      <td>42542.0</td>\n",
       "      <td>Appalachia Southern</td>\n",
       "      <td>Cullman</td>\n",
       "      <td>Cold Springs West Mine</td>\n",
       "      <td>Alabama</td>\n",
       "      <td>Active</td>\n",
       "      <td>Surface</td>\n",
       "      <td>Twin Pines Coal Company</td>\n",
       "      <td>74 Industrial Parkway, Jasper, AL 35502</td>\n",
       "      <td>Mine only</td>\n",
       "      <td>143208.0</td>\n",
       "      <td>NaN</td>\n",
       "      <td>2008</td>\n",
       "    </tr>\n",
       "    <tr>\n",
       "      <th>100759</th>\n",
       "      <td>395.0</td>\n",
       "      <td>Operating Subsidiary</td>\n",
       "      <td>890710.0</td>\n",
       "      <td>Appalachia Southern</td>\n",
       "      <td>Fayette</td>\n",
       "      <td>North River # 1 Underground Mi</td>\n",
       "      <td>Alabama</td>\n",
       "      <td>Active</td>\n",
       "      <td>Underground</td>\n",
       "      <td>Chevron Mining Inc</td>\n",
       "      <td>3114 County Road 63 S, Berry, AL 35546</td>\n",
       "      <td>Mine and Preparation Plant</td>\n",
       "      <td>2923261.0</td>\n",
       "      <td>United Mine Workers of America</td>\n",
       "      <td>2008</td>\n",
       "    </tr>\n",
       "    <tr>\n",
       "      <th>103246</th>\n",
       "      <td>22.0</td>\n",
       "      <td>Independent Producer Operator</td>\n",
       "      <td>55403.0</td>\n",
       "      <td>Appalachia Southern</td>\n",
       "      <td>Franklin</td>\n",
       "      <td>Bear Creek</td>\n",
       "      <td>Alabama</td>\n",
       "      <td>Active</td>\n",
       "      <td>Surface</td>\n",
       "      <td>Birmingham Coal &amp; Coke Co., In</td>\n",
       "      <td>912 Edenton Street, Birmingham, AL 35242</td>\n",
       "      <td>Mine only</td>\n",
       "      <td>183137.0</td>\n",
       "      <td>NaN</td>\n",
       "      <td>2008</td>\n",
       "    </tr>\n",
       "  </tbody>\n",
       "</table>\n",
       "</div>"
      ],
      "text/plain": [
       "         Average_Employees                   Company_Type  Labor_Hours  \\\n",
       "MSHA_ID                                                                  \n",
       "103295                18.0  Independent Producer Operator      39175.0   \n",
       "103117                19.0           Operating Subsidiary      29926.0   \n",
       "103361                20.0           Operating Subsidiary      42542.0   \n",
       "100759               395.0           Operating Subsidiary     890710.0   \n",
       "103246                22.0  Independent Producer Operator      55403.0   \n",
       "\n",
       "                  Mine_Basin Mine_County                       Mine_Name  \\\n",
       "MSHA_ID                                                                    \n",
       "103295   Appalachia Southern        Bibb                    Seymour Mine   \n",
       "103117   Appalachia Southern     Cullman                 Mine #2, #3, #4   \n",
       "103361   Appalachia Southern     Cullman          Cold Springs West Mine   \n",
       "100759   Appalachia Southern     Fayette  North River # 1 Underground Mi   \n",
       "103246   Appalachia Southern    Franklin                      Bear Creek   \n",
       "\n",
       "        Mine_State                         Mine_Status    Mine_Type  \\\n",
       "MSHA_ID                                                               \n",
       "103295     Alabama                              Active      Surface   \n",
       "103117     Alabama  Active, men working, not producing      Surface   \n",
       "103361     Alabama                              Active      Surface   \n",
       "100759     Alabama                              Active  Underground   \n",
       "103246     Alabama                              Active      Surface   \n",
       "\n",
       "                      Operating_Company  \\\n",
       "MSHA_ID                                   \n",
       "103295            Hope Coal Company Inc   \n",
       "103117      Twin Pines Coal Company Inc   \n",
       "103361          Twin Pines Coal Company   \n",
       "100759               Chevron Mining Inc   \n",
       "103246   Birmingham Coal & Coke Co., In   \n",
       "\n",
       "                        Operating_Company_Address              Operation_Type  \\\n",
       "MSHA_ID                                                                         \n",
       "103295            P.O. Box 249, Maylene, AL 35114                   Mine only   \n",
       "103117      1874 County Road 15, Bremen, AL 35033                   Mine only   \n",
       "103361    74 Industrial Parkway, Jasper, AL 35502                   Mine only   \n",
       "100759     3114 County Road 63 S, Berry, AL 35546  Mine and Preparation Plant   \n",
       "103246   912 Edenton Street, Birmingham, AL 35242                   Mine only   \n",
       "\n",
       "         Production_short_tons                      Union_Code  Year  \n",
       "MSHA_ID                                                               \n",
       "103295                105082.0                             NaN  2008  \n",
       "103117                 10419.0                             NaN  2008  \n",
       "103361                143208.0                             NaN  2008  \n",
       "100759               2923261.0  United Mine Workers of America  2008  \n",
       "103246                183137.0                             NaN  2008  "
      ]
     },
     "execution_count": 10,
     "metadata": {},
     "output_type": "execute_result"
    }
   ],
   "source": [
    "dframe[dframe.Year == 2008].head()"
   ]
  },
  {
   "cell_type": "markdown",
   "metadata": {},
   "source": [
    "# Final Cleaned Data Product"
   ]
  },
  {
   "cell_type": "code",
   "execution_count": 11,
   "metadata": {
    "collapsed": true
   },
   "outputs": [],
   "source": [
    "dframe.to_csv(output_file, )"
   ]
  },
  {
   "cell_type": "code",
   "execution_count": null,
   "metadata": {
    "collapsed": true
   },
   "outputs": [],
   "source": []
  }
 ],
 "metadata": {
  "kernelspec": {
   "display_name": "Python 3",
   "language": "python",
   "name": "python3"
  },
  "language_info": {
   "codemirror_mode": {
    "name": "ipython",
    "version": 3
   },
   "file_extension": ".py",
   "mimetype": "text/x-python",
   "name": "python",
   "nbconvert_exporter": "python",
   "pygments_lexer": "ipython3",
   "version": "3.5.2"
  }
 },
 "nbformat": 4,
 "nbformat_minor": 0
}

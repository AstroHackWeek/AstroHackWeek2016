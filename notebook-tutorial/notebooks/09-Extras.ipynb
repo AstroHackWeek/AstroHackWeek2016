{
 "cells": [
  {
   "cell_type": "code",
   "execution_count": null,
   "metadata": {
    "collapsed": true
   },
   "outputs": [],
   "source": [
    "from __future__ import absolute_import, division, print_function"
   ]
  },
  {
   "cell_type": "markdown",
   "metadata": {},
   "source": [
    "## Learn the standard library to at least know what's there\n",
    "\n",
    "### itertools and collections have very useful features\n",
    "\n",
    " - chain\n",
    " - product\n",
    " - permutations\n",
    " - combinations\n",
    " - izip"
   ]
  },
  {
   "cell_type": "code",
   "execution_count": null,
   "metadata": {
    "collapsed": false
   },
   "outputs": [],
   "source": [
    "%matplotlib inline\n",
    "%config InlineBackend.figure_format='retina'\n",
    "\n",
    "import matplotlib.pyplot as plt\n",
    "import seaborn as sns\n",
    "sns.set_context('talk')\n",
    "sns.set_style('darkgrid') \n",
    "plt.rcParams['figure.figsize'] = 12, 8  # plotsize \n",
    "\n",
    "import numpy as np\n",
    "import pandas as pd"
   ]
  },
  {
   "cell_type": "code",
   "execution_count": null,
   "metadata": {
    "collapsed": true
   },
   "outputs": [],
   "source": [
    "# plot residuals"
   ]
  },
  {
   "cell_type": "code",
   "execution_count": null,
   "metadata": {
    "collapsed": false
   },
   "outputs": [],
   "source": [
    "from itertools import groupby # NOT REGULAR GROUPBY\n",
    "from itertools import product, cycle, izip\n",
    "import re # regular expressions"
   ]
  },
  {
   "cell_type": "markdown",
   "metadata": {},
   "source": [
    "## Challenge (Easy)\n",
    "\n",
    "Write a function to return the total number of digits in a given string, and those digits. "
   ]
  },
  {
   "cell_type": "code",
   "execution_count": null,
   "metadata": {
    "collapsed": true
   },
   "outputs": [],
   "source": [
    "test_string = \"\"\"de3456yghj87654edfghuio908ujhgyuY^YHJUi8ytgh gtyujnh y7\"\"\""
   ]
  },
  {
   "cell_type": "code",
   "execution_count": null,
   "metadata": {
    "collapsed": false
   },
   "outputs": [],
   "source": [
    "count = 0\n",
    "digits = []\n",
    "for x in test_string:\n",
    "    try: \n",
    "        int(x)\n",
    "        count += 1\n",
    "        digits.append(int(x))\n",
    "    except:\n",
    "        pass\n",
    "    \n",
    "print(\"Number of digits:\", str(count) + \";\")\n",
    "print(\"They are:\", digits)"
   ]
  },
  {
   "cell_type": "markdown",
   "metadata": {},
   "source": [
    "## Challenge (Tricky)\n",
    "\n",
    "Same as above -- but were consecutive digits are available, return as a single number. \n",
    "\n",
    "Ex. \"2a78b123\" returns \"3 numbers, they are: 2, 78, 123\""
   ]
  },
  {
   "cell_type": "code",
   "execution_count": null,
   "metadata": {
    "collapsed": false
   },
   "outputs": [],
   "source": [
    "test_string"
   ]
  },
  {
   "cell_type": "code",
   "execution_count": null,
   "metadata": {
    "collapsed": false
   },
   "outputs": [],
   "source": [
    "groups = []\n",
    "uniquekeys = []\n",
    "for k, g in groupby(test_string, lambda x: x.isdigit()):\n",
    "    groups.append(list(g))\n",
    "    uniquekeys.append(k) "
   ]
  },
  {
   "cell_type": "code",
   "execution_count": null,
   "metadata": {
    "collapsed": false
   },
   "outputs": [],
   "source": [
    "print(groups)\n",
    "print(uniquekeys)"
   ]
  },
  {
   "cell_type": "code",
   "execution_count": null,
   "metadata": {
    "collapsed": false
   },
   "outputs": [],
   "source": [
    "numbers = []\n",
    "for x, y in izip(groups, uniquekeys):\n",
    "    if y:\n",
    "        numbers.append(int(''.join([j for j in x])))\n",
    "print(\"Number:\", np.sum(uniquekeys))\n",
    "print(\"They are:\", numbers)"
   ]
  },
  {
   "cell_type": "code",
   "execution_count": null,
   "metadata": {
    "collapsed": false
   },
   "outputs": [],
   "source": [
    "# In one cell\n",
    "\n",
    "def solution_2(test_string):\n",
    "    groups = []\n",
    "    uniquekeys = []\n",
    "    for k, g in groupby(test_string, lambda x: x.isdigit()):\n",
    "        if k:\n",
    "            groups.append(int(''.join([j for j in g])))\n",
    "\n",
    "    return len(groups), groups\n",
    "    \n",
    "print(solution_2(test_string))"
   ]
  },
  {
   "cell_type": "markdown",
   "metadata": {},
   "source": [
    "## Challenge (Tricky)\n",
    "\n",
    "Same as above, but do it a second way.\n"
   ]
  },
  {
   "cell_type": "code",
   "execution_count": null,
   "metadata": {
    "collapsed": false
   },
   "outputs": [],
   "source": [
    "def solution_3(test_string):\n",
    "    \"\"\"Regular expressions can be a very powerful and useful tool.\"\"\"\n",
    "    groups = [int(j) for j in re.findall(r'\\d+', test_string)]\n",
    "    return len(groups), groups\n",
    "\n",
    "solution_3(test_string)"
   ]
  },
  {
   "cell_type": "markdown",
   "metadata": {},
   "source": [
    "## Challenge (Hard)\n",
    "\n",
    "Same as above, but all valid numbers expressed in digits, commas, and decimal points. \n",
    "\n",
    "Ex. \"a23.42dx9,331nm87,55\" -> 4; 23.42, 9331, 87, 55\n",
    "\n",
    "Left as an exercise :) \n",
    "\n",
    "Don't spend much time on this one."
   ]
  },
  {
   "cell_type": "markdown",
   "metadata": {
    "collapsed": true
   },
   "source": [
    "## Generators"
   ]
  },
  {
   "cell_type": "code",
   "execution_count": null,
   "metadata": {
    "collapsed": false
   },
   "outputs": [],
   "source": [
    "def ex1(num):\n",
    "    \"\"\"A stupid example generator to prove a point.\"\"\"\n",
    "    while num > 1:\n",
    "        num += 1\n",
    "        yield num "
   ]
  },
  {
   "cell_type": "code",
   "execution_count": null,
   "metadata": {
    "collapsed": true
   },
   "outputs": [],
   "source": [
    "hey = ex1(5)"
   ]
  },
  {
   "cell_type": "code",
   "execution_count": null,
   "metadata": {
    "collapsed": false
   },
   "outputs": [],
   "source": [
    "hey.next()"
   ]
  },
  {
   "cell_type": "code",
   "execution_count": null,
   "metadata": {
    "collapsed": false
   },
   "outputs": [],
   "source": [
    "hey.next()"
   ]
  },
  {
   "cell_type": "markdown",
   "metadata": {},
   "source": [
    "# Gotchas\n",
    "\n",
    "Modifying a dictionary's keys while iterating over it. \n",
    "\n",
    "```python\n",
    "for key in dictionary:\n",
    "    if key == \"bat\":\n",
    "        del dictionary[key]\n",
    "```\n",
    "\n",
    "If you have to do someeven_better_name like this: \n",
    "\n",
    "```python\n",
    "list_of_keys = dictionary.keys()\n",
    "for key in list_of_keys:\n",
    "    if key == \"bat\":\n",
    "        del dictionary[key]\n",
    "```"
   ]
  },
  {
   "cell_type": "code",
   "execution_count": null,
   "metadata": {
    "collapsed": true
   },
   "outputs": [],
   "source": [
    "even_better_name = 5"
   ]
  },
  {
   "cell_type": "code",
   "execution_count": null,
   "metadata": {
    "collapsed": true
   },
   "outputs": [],
   "source": [
    "even_better_name = 5"
   ]
  },
  {
   "cell_type": "code",
   "execution_count": null,
   "metadata": {
    "collapsed": true
   },
   "outputs": [],
   "source": [
    "even_better_name = 5"
   ]
  },
  {
   "cell_type": "code",
   "execution_count": null,
   "metadata": {
    "collapsed": true
   },
   "outputs": [],
   "source": [
    "even_better_name = 5"
   ]
  },
  {
   "cell_type": "code",
   "execution_count": null,
   "metadata": {
    "collapsed": true
   },
   "outputs": [],
   "source": [
    "even_better_name = 5"
   ]
  },
  {
   "cell_type": "code",
   "execution_count": null,
   "metadata": {
    "collapsed": true
   },
   "outputs": [],
   "source": [
    "even_better_name = 5"
   ]
  },
  {
   "cell_type": "code",
   "execution_count": null,
   "metadata": {
    "collapsed": true
   },
   "outputs": [],
   "source": []
  }
 ],
 "metadata": {
  "celltoolbar": "Slideshow",
  "kernelspec": {
   "display_name": "Python 2",
   "language": "python",
   "name": "python2"
  },
  "language_info": {
   "codemirror_mode": {
    "name": "ipython",
    "version": 2
   },
   "file_extension": ".py",
   "mimetype": "text/x-python",
   "name": "python",
   "nbconvert_exporter": "python",
   "pygments_lexer": "ipython2",
   "version": "2.7.11"
  }
 },
 "nbformat": 4,
 "nbformat_minor": 0
}

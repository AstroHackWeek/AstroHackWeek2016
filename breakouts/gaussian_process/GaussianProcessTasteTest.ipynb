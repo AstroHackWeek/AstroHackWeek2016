{
 "cells": [
  {
   "cell_type": "markdown",
   "metadata": {},
   "source": [
    "# Gaussian Process Taste-test\n",
    "\n",
    "The scikit-learn package has a nice Gaussian Process demo. First we run that, and then try to do the same thing by-hand with numpy/scipy."
   ]
  },
  {
   "cell_type": "code",
   "execution_count": 1,
   "metadata": {
    "collapsed": true
   },
   "outputs": [],
   "source": [
    "%matplotlib inline\n",
    "import numpy as np\n",
    "from matplotlib import pyplot as plt\n",
    "plt.style.use('seaborn-whitegrid')"
   ]
  },
  {
   "cell_type": "markdown",
   "metadata": {},
   "source": [
    "## Make Some Data"
   ]
  },
  {
   "cell_type": "code",
   "execution_count": 2,
   "metadata": {
    "collapsed": true
   },
   "outputs": [],
   "source": [
    "def f(x):\n",
    "    \"\"\"The function to predict.\"\"\"\n",
    "    return x * np.sin(x)\n",
    "\n",
    "def make_data(N, rseed=1):\n",
    "    np.random.seed(rseed)\n",
    "\n",
    "    # Create some observations with noise\n",
    "    X = np.linspace(0.1, 9.9, N)\n",
    "    X = np.atleast_2d(X).T\n",
    "\n",
    "    y = f(X).ravel()\n",
    "    dy = 1.0 + 2.0 * np.random.random(y.shape)\n",
    "    noise = np.random.normal(0, dy)\n",
    "    y += noise\n",
    "    \n",
    "    return X, y, dy\n",
    "\n",
    "X, y, dy = make_data(20)"
   ]
  },
  {
   "cell_type": "markdown",
   "metadata": {},
   "source": [
    "## Gaussian Process Regression with Scikit-Learn\n",
    "\n",
    "Example adapted from [Scikit-learn's Examples](http://scikit-learn.org/dev/auto_examples/gaussian_process/plot_gpr_noisy_targets.html)"
   ]
  },
  {
   "cell_type": "code",
   "execution_count": 3,
   "metadata": {
    "collapsed": false
   },
   "outputs": [],
   "source": [
    "# Get the master version of scikit-learn; new GP code isn't in release\n",
    "# This needs to compile things, so it will take a while...\n",
    "# Uncomment the following:\n",
    "\n",
    "# !pip install git+git://github.com/scikit-learn/scikit-learn.git"
   ]
  },
  {
   "cell_type": "code",
   "execution_count": 4,
   "metadata": {
    "collapsed": false
   },
   "outputs": [
    {
     "data": {
      "text/plain": [
       "GaussianProcessRegressor(alpha=array([  7.70531e-01,   1.09840e+00,   1.37917e+00,   4.70772e+01,\n",
       "         4.89291e-01,   3.94518e-01,   6.67193e-01,   7.17824e+02,\n",
       "         7.15887e-01,   3.15988e-01,   4.19417e-01,   2.85442e-01,\n",
       "         1.11228e+02,   1.14522e+01,   3.06663e-02,   6.65079e-02,\n",
       "         9.14528e-02,   3.03521e-01,   6.57404e+00,   5.97961e-02]),\n",
       "             copy_X_train=True, kernel=1**2 * RBF(length_scale=10),\n",
       "             n_restarts_optimizer=10, normalize_y=False,\n",
       "             optimizer='fmin_l_bfgs_b', random_state=None)"
      ]
     },
     "execution_count": 4,
     "metadata": {},
     "output_type": "execute_result"
    }
   ],
   "source": [
    "from sklearn.gaussian_process import GaussianProcessRegressor\n",
    "from sklearn.gaussian_process.kernels import RBF as SquaredExponential\n",
    "from sklearn.gaussian_process.kernels import ConstantKernel as Amplitude\n",
    "\n",
    "# Instanciate a Gaussian Process model\n",
    "kernel = Amplitude(1.0, (1E-3, 1E3)) * SquaredExponential(10, (1e-2, 1e2))\n",
    "\n",
    "# Instantiate a Gaussian Process model\n",
    "gp = GaussianProcessRegressor(kernel=kernel,\n",
    "                              alpha=(dy / y)**2,  # fractional errors in data\n",
    "                              n_restarts_optimizer=10)\n",
    "\n",
    "# Fit to data using Maximum Likelihood Estimation of the parameters\n",
    "gp.fit(X, y)"
   ]
  },
  {
   "cell_type": "code",
   "execution_count": 5,
   "metadata": {
    "collapsed": false
   },
   "outputs": [
    {
     "data": {
      "text/plain": [
       "3.82**2 * RBF(length_scale=0.564)"
      ]
     },
     "execution_count": 5,
     "metadata": {},
     "output_type": "execute_result"
    }
   ],
   "source": [
    "gp.kernel_"
   ]
  },
  {
   "cell_type": "code",
   "execution_count": 6,
   "metadata": {
    "collapsed": false
   },
   "outputs": [
    {
     "data": {
      "text/plain": [
       "{'k1': 3.82**2,\n",
       " 'k1__constant_value': 14.607739599766948,\n",
       " 'k1__constant_value_bounds': (0.001, 1000.0),\n",
       " 'k2': RBF(length_scale=0.564),\n",
       " 'k2__length_scale': 0.56403669173527959,\n",
       " 'k2__length_scale_bounds': (0.01, 100.0)}"
      ]
     },
     "execution_count": 6,
     "metadata": {},
     "output_type": "execute_result"
    }
   ],
   "source": [
    "# note: gp.kernel is the initial kernel\n",
    "#       gp.kernel_ (with an underscore) is the fitted kernel\n",
    "gp.kernel_.get_params()"
   ]
  },
  {
   "cell_type": "code",
   "execution_count": 7,
   "metadata": {
    "collapsed": true
   },
   "outputs": [],
   "source": [
    "# Mesh the input space for evaluations of the real function, the prediction and\n",
    "# its MSE\n",
    "x_pred = np.atleast_2d(np.linspace(0, 10, 1000)).T\n",
    "\n",
    "# Make the prediction on the meshed x-axis (ask for MSE as well)\n",
    "y_pred, sigma = gp.predict(x_pred, return_std=True)"
   ]
  },
  {
   "cell_type": "code",
   "execution_count": 8,
   "metadata": {
    "collapsed": false
   },
   "outputs": [
    {
     "data": {
      "image/png": "[encoded data removed]",
      "text/plain": [
       "<matplotlib.figure.Figure at 0x10e37c0b8>"
      ]
     },
     "metadata": {},
     "output_type": "display_data"
    }
   ],
   "source": [
    "def plot_results(X, y, dy, x_pred, y_pred, sigma):\n",
    "    fig = plt.figure(figsize=(8, 6))\n",
    "    plt.plot(x_pred, f(x_pred), 'k:', label=u'$f(x) = x\\,\\sin(x)$')\n",
    "    plt.errorbar(X.ravel(), y, dy, fmt='k.', markersize=10, label=u'Observations',\n",
    "                 ecolor='gray')\n",
    "    plt.plot(x_pred, y_pred, 'b-', label=u'Prediction')\n",
    "    plt.fill(np.concatenate([x_pred, x_pred[::-1]]),\n",
    "             np.concatenate([y_pred - 1.9600 * sigma,\n",
    "                            (y_pred + 1.9600 * sigma)[::-1]]),\n",
    "             alpha=.3, fc='b', ec='None', label='95% confidence interval')\n",
    "    plt.xlabel('$x$')\n",
    "    plt.ylabel('$f(x)$')\n",
    "    plt.ylim(-10, 20)\n",
    "    plt.legend(loc='upper left');\n",
    "    \n",
    "plot_results(X, y, dy, x_pred, y_pred, sigma)"
   ]
  },
  {
   "cell_type": "markdown",
   "metadata": {},
   "source": [
    "## Gaussian Processes by-hand"
   ]
  },
  {
   "cell_type": "code",
   "execution_count": 9,
   "metadata": {
    "collapsed": true
   },
   "outputs": [],
   "source": [
    "# ...."
   ]
  }
 ],
 "metadata": {
  "kernelspec": {
   "display_name": "Python 3.5",
   "language": "",
   "name": "python3.5"
  },
  "language_info": {
   "codemirror_mode": {
    "name": "ipython",
    "version": 3
   },
   "file_extension": ".py",
   "mimetype": "text/x-python",
   "name": "python",
   "nbconvert_exporter": "python",
   "pygments_lexer": "ipython3",
   "version": "3.5.1"
  },
  "widgets": {
   "state": {},
   "version": "1.0.0"
  }
 },
 "nbformat": 4,
 "nbformat_minor": 0
}

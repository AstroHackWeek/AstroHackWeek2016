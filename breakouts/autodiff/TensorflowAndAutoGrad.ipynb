{
 "cells": [
  {
   "cell_type": "markdown",
   "metadata": {},
   "source": [
    "# Autograd"
   ]
  },
  {
   "cell_type": "code",
   "execution_count": 1,
   "metadata": {
    "collapsed": true
   },
   "outputs": [],
   "source": [
    "import autograd\n",
    "from autograd import numpy as np\n",
    "\n",
    "import matplotlib.pyplot as plt\n",
    "\n",
    "%matplotlib inline"
   ]
  },
  {
   "cell_type": "code",
   "execution_count": 2,
   "metadata": {
    "collapsed": true
   },
   "outputs": [],
   "source": [
    "ndim = 10"
   ]
  },
  {
   "cell_type": "code",
   "execution_count": 3,
   "metadata": {
    "collapsed": true
   },
   "outputs": [],
   "source": [
    "def x_init(ndim, seed=0):\n",
    "    np.random.seed(seed)\n",
    "    return np.random.rand(ndim)"
   ]
  },
  {
   "cell_type": "code",
   "execution_count": 4,
   "metadata": {
    "collapsed": true
   },
   "outputs": [],
   "source": [
    "def y(x):\n",
    "    return np.sum(x**2)\n",
    "\n",
    "def g_exact(x):\n",
    "    return 2. * x\n",
    "\n",
    "g_auto = autograd.grad(y)"
   ]
  },
  {
   "cell_type": "code",
   "execution_count": 5,
   "metadata": {
    "collapsed": true
   },
   "outputs": [],
   "source": [
    "from scipy.optimize import minimize"
   ]
  },
  {
   "cell_type": "markdown",
   "metadata": {},
   "source": [
    "## With numerical gradient"
   ]
  },
  {
   "cell_type": "code",
   "execution_count": 6,
   "metadata": {
    "collapsed": false
   },
   "outputs": [
    {
     "name": "stdout",
     "output_type": "stream",
     "text": [
      "minimum: [  1.44079457e-08   1.07777187e-09  -2.37100333e-08   4.97857175e-09\n",
      "  -1.07706796e-08  -4.38312052e-09  -1.55044568e-08  -1.17504437e-08\n",
      "  -1.18699967e-08  -1.79687886e-08]\n",
      "nit=2  nfev=48  njev=4\n"
     ]
    }
   ],
   "source": [
    "r = minimize(y, x_init(ndim), method='BFGS')\n",
    "print(\"minimum: {}\".format(r.x))\n",
    "print(\"nit={}  nfev={}  njev={}\".format(r.nit, r.nfev, r.njev))"
   ]
  },
  {
   "cell_type": "markdown",
   "metadata": {},
   "source": [
    "## With analytic gradient"
   ]
  },
  {
   "cell_type": "code",
   "execution_count": 7,
   "metadata": {
    "collapsed": false
   },
   "outputs": [
    {
     "name": "stdout",
     "output_type": "stream",
     "text": [
      "minimum: [ -4.25752641e-17  -1.59377719e-17  -2.36762649e-17   8.01631981e-18\n",
      "   3.28716546e-17   6.41847686e-17  -3.87602277e-18   3.07642366e-17\n",
      "  -3.52636757e-17  -6.43745040e-18]\n",
      "nit=2  nfev=4  njev=4\n"
     ]
    }
   ],
   "source": [
    "r = minimize(y, x_init(ndim), jac=g_exact, method='BFGS')\n",
    "print(\"minimum: {}\".format(r.x))\n",
    "print(\"nit={}  nfev={}  njev={}\".format(r.nit, r.nfev, r.njev))"
   ]
  },
  {
   "cell_type": "markdown",
   "metadata": {},
   "source": [
    "## With automatic gradient"
   ]
  },
  {
   "cell_type": "code",
   "execution_count": 8,
   "metadata": {
    "collapsed": false
   },
   "outputs": [
    {
     "name": "stdout",
     "output_type": "stream",
     "text": [
      "minimum: [ -4.25752641e-17  -1.59377719e-17  -2.36762649e-17   8.01631981e-18\n",
      "   3.28716546e-17   6.41847686e-17  -3.87602277e-18   3.07642366e-17\n",
      "  -3.52636757e-17  -6.43745040e-18]\n",
      "nit=2  nfev=4  njev=4\n"
     ]
    }
   ],
   "source": [
    "r = minimize(y, x_init(ndim), jac=g_auto, method='BFGS')\n",
    "print(\"minimum: {}\".format(r.x))\n",
    "print(\"nit={}  nfev={}  njev={}\".format(r.nit, r.nfev, r.njev))"
   ]
  },
  {
   "cell_type": "markdown",
   "metadata": {},
   "source": [
    "## Compare timing"
   ]
  },
  {
   "cell_type": "code",
   "execution_count": 9,
   "metadata": {
    "collapsed": false
   },
   "outputs": [
    {
     "name": "stdout",
     "output_type": "stream",
     "text": [
      "time with numerical derivatives\n",
      "1000 loops, best of 3: 782 µs per loop\n",
      "time with analytic derivatives\n",
      "1000 loops, best of 3: 238 µs per loop\n",
      "time with autograd\n",
      "1000 loops, best of 3: 930 µs per loop\n"
     ]
    }
   ],
   "source": [
    "print(\"time with numerical derivatives\")\n",
    "%timeit minimize(y, x_init(ndim), method='BFGS')\n",
    "print(\"time with analytic derivatives\")\n",
    "%timeit minimize(y, x_init(ndim), jac=g_exact, method='BFGS')\n",
    "print(\"time with autograd\")\n",
    "%timeit minimize(y, x_init(ndim), jac=g_auto, method='BFGS')"
   ]
  },
  {
   "cell_type": "markdown",
   "metadata": {},
   "source": [
    "## Benchmarking"
   ]
  },
  {
   "cell_type": "code",
   "execution_count": 10,
   "metadata": {
    "collapsed": true
   },
   "outputs": [],
   "source": [
    "import time as wallclock\n",
    "\n",
    "def analyze(g, ndims):\n",
    "    niters = np.zeros_like(ndims)\n",
    "    nfevs = np.zeros_like(ndims)\n",
    "    times = np.zeros_like(ndims, dtype=np.float64)\n",
    "    for i, ndim in enumerate(ndims):\n",
    "        r = minimize(y, x_init(ndim), jac=g, method='BFGS')\n",
    "        niters[i] = r.nit\n",
    "        nfevs[i] = r.nfev\n",
    "        t0 = wallclock.time()\n",
    "        nloops = max(1, 2000 // ndim)\n",
    "        for j in range(nloops):\n",
    "            minimize(y, x_init(ndim), jac=g, method='BFGS')\n",
    "        t1 = wallclock.time()\n",
    "        times[i] = (t1 - t0) / nloops\n",
    "\n",
    "    return {'niters': niters, 'nfevs': nfevs, 'times': times}"
   ]
  },
  {
   "cell_type": "code",
   "execution_count": 11,
   "metadata": {
    "collapsed": false
   },
   "outputs": [],
   "source": [
    "ndims = np.array([10, 100, 1000, 3000], dtype=np.int64)\n",
    "results = {}\n",
    "results['Numerical'] = analyze(None, ndims)\n",
    "results['Analytic'] = analyze(g_exact, ndims)\n",
    "results['AutoGrad'] = analyze(g_auto, ndims)"
   ]
  },
  {
   "cell_type": "code",
   "execution_count": 12,
   "metadata": {
    "collapsed": true
   },
   "outputs": [],
   "source": [
    "def plot(results, ordinate, ylabel, ylogscale=True):\n",
    "    fig = plt.figure()\n",
    "    for label in results:\n",
    "        if ylogscale:\n",
    "            plt.loglog(ndims, results[label][ordinate], label=label)\n",
    "        else:\n",
    "            plt.semilogx(ndims, results[label][ordinate], label=label)\n",
    "            \n",
    "    plt.xlabel('dimensions')\n",
    "    plt.ylabel(ylabel)\n",
    "    plt.legend(loc='upper left')\n",
    "    plt.show()"
   ]
  },
  {
   "cell_type": "code",
   "execution_count": 13,
   "metadata": {
    "collapsed": false
   },
   "outputs": [
    {
     "data": {
      "image/png": "[encoded data removed]",
      "text/plain": [
       "<matplotlib.figure.Figure at 0x10ebccb00>"
      ]
     },
     "metadata": {},
     "output_type": "display_data"
    },
    {
     "data": {
      "image/png": "[encoded data removed]",
      "text/plain": [
       "<matplotlib.figure.Figure at 0x10ebcc198>"
      ]
     },
     "metadata": {},
     "output_type": "display_data"
    },
    {
     "data": {
      "image/png": "[encoded data removed]",
      "text/plain": [
       "<matplotlib.figure.Figure at 0x10ebccdd8>"
      ]
     },
     "metadata": {},
     "output_type": "display_data"
    }
   ],
   "source": [
    "plot(results, 'niters', 'iterations', ylogscale=False)\n",
    "plot(results, 'nfevs', 'function evaluations')\n",
    "plot(results, 'times', 'time (s)')"
   ]
  },
  {
   "cell_type": "markdown",
   "metadata": {},
   "source": [
    "# Theano"
   ]
  },
  {
   "cell_type": "code",
   "execution_count": 14,
   "metadata": {
    "collapsed": true
   },
   "outputs": [],
   "source": [
    "import theano\n",
    "import theano.tensor as T\n",
    "\n",
    "x_ = T.dvector('x')\n",
    "y_ = T.sum(x_ ** 2)\n",
    "g_ = T.grad(y_, x_)\n",
    "g_theano = theano.function([x_], g_)"
   ]
  },
  {
   "cell_type": "code",
   "execution_count": 15,
   "metadata": {
    "collapsed": false
   },
   "outputs": [
    {
     "name": "stdout",
     "output_type": "stream",
     "text": [
      "time with Theano\n",
      "The slowest run took 6.08 times longer than the fastest. This could mean that an intermediate result is being cached.\n",
      "1000 loops, best of 3: 329 µs per loop\n"
     ]
    }
   ],
   "source": [
    "print(\"time with Theano\")\n",
    "%timeit minimize(y, x_init(ndim), jac=g_theano, method='BFGS')"
   ]
  },
  {
   "cell_type": "code",
   "execution_count": 16,
   "metadata": {
    "collapsed": true
   },
   "outputs": [],
   "source": [
    "results['Theano'] = analyze(g_theano, ndims)"
   ]
  },
  {
   "cell_type": "code",
   "execution_count": 17,
   "metadata": {
    "collapsed": false
   },
   "outputs": [
    {
     "data": {
      "image/png": "[encoded data removed]",
      "text/plain": [
       "<matplotlib.figure.Figure at 0x11022b9e8>"
      ]
     },
     "metadata": {},
     "output_type": "display_data"
    },
    {
     "data": {
      "image/png": "[encoded data removed]",
      "text/plain": [
       "<matplotlib.figure.Figure at 0x11022b9b0>"
      ]
     },
     "metadata": {},
     "output_type": "display_data"
    },
    {
     "data": {
      "image/png": "[encoded data removed]",
      "text/plain": [
       "<matplotlib.figure.Figure at 0x10e88e3c8>"
      ]
     },
     "metadata": {},
     "output_type": "display_data"
    }
   ],
   "source": [
    "plot(results, 'niters', 'iterations', ylogscale=False)\n",
    "plot(results, 'nfevs', 'function evaluations')\n",
    "plot(results, 'times', 'time (s)')"
   ]
  },
  {
   "cell_type": "markdown",
   "metadata": {
    "collapsed": true
   },
   "source": [
    "# Tensorflow"
   ]
  },
  {
   "cell_type": "code",
   "execution_count": 14,
   "metadata": {
    "collapsed": true
   },
   "outputs": [],
   "source": [
    "import tensorflow as tf"
   ]
  },
  {
   "cell_type": "code",
   "execution_count": 15,
   "metadata": {
    "collapsed": true
   },
   "outputs": [],
   "source": [
    "tol = 1e-9\n",
    "maxiter = 1000"
   ]
  },
  {
   "cell_type": "code",
   "execution_count": 16,
   "metadata": {
    "collapsed": true
   },
   "outputs": [],
   "source": [
    "x = tf.Variable(np.array([3.]))\n",
    "y = x**2"
   ]
  },
  {
   "cell_type": "code",
   "execution_count": 17,
   "metadata": {
    "collapsed": false
   },
   "outputs": [
    {
     "name": "stdout",
     "output_type": "stream",
     "text": [
      "<tensorflow.python.ops.variables.Variable object at 0x7ffa5ef4fa58>\n"
     ]
    }
   ],
   "source": [
    "print(x)"
   ]
  },
  {
   "cell_type": "code",
   "execution_count": 18,
   "metadata": {
    "collapsed": false
   },
   "outputs": [
    {
     "name": "stdout",
     "output_type": "stream",
     "text": [
      "Minimum found after 1 steps: x=[ 0.], y=[ 0.]\n"
     ]
    }
   ],
   "source": [
    "optimizer = tf.train.GradientDescentOptimizer(0.5)\n",
    "train = optimizer.minimize(y)\n",
    "\n",
    "# Before starting, initialize the variables.  We will 'run' this first.\n",
    "init = tf.initialize_all_variables()\n",
    "# Launch the graph.\n",
    "with tf.Session() as sess:\n",
    "    sess.run(init)\n",
    "    # Fit the line.\n",
    "    step = 0\n",
    "    while abs(sess.run(x)) > tol and step < maxiter:\n",
    "        step += 1\n",
    "        if step % 20 == 0:\n",
    "            print(step, sess.run(x), sess.run(y))\n",
    "        sess.run(train)\n",
    "        \n",
    "    print(\"Minimum found after {} steps: x={}, y={}\".format(step, sess.run(x), sess.run(y)))"
   ]
  }
 ],
 "metadata": {
  "kernelspec": {
   "display_name": "Python 3",
   "language": "python",
   "name": "python3"
  },
  "language_info": {
   "codemirror_mode": {
    "name": "ipython",
    "version": 3
   },
   "file_extension": ".py",
   "mimetype": "text/x-python",
   "name": "python",
   "nbconvert_exporter": "python",
   "pygments_lexer": "ipython3",
   "version": "3.4.5"
  }
 },
 "nbformat": 4,
 "nbformat_minor": 0
}
